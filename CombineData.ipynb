{
 "cells": [
  {
   "cell_type": "code",
   "execution_count": 1,
   "outputs": [],
   "source": [
    "from feature_combination import TRAIN_PATH\n",
    "from feature_combination import get_training_samples_dict, get_training_samples_frame\n",
    "\n",
    "# gives a dict of data frames where the key is the sample ID\n",
    "# and the value is the process dataframe for that sample\n",
    "data_dict = get_training_samples_dict(TRAIN_PATH)\n",
    "\n",
    "# gives a single data frame containing all samples\n",
    "# 'sample' column contains the sample ID of the data point\n",
    "# 'sample_index' contains the original index in the processed dataframe\n",
    "# for that sample\n",
    "data_frame = get_training_samples_frame(TRAIN_PATH)\n"
   ],
   "metadata": {
    "collapsed": false,
    "pycharm": {
     "name": "#%%\n",
     "is_executing": false
    }
   }
  }
 ],
 "metadata": {
  "kernelspec": {
   "display_name": "Python 3",
   "language": "python",
   "name": "python3"
  },
  "language_info": {
   "codemirror_mode": {
    "name": "ipython",
    "version": 2
   },
   "file_extension": ".py",
   "mimetype": "text/x-python",
   "name": "python",
   "nbconvert_exporter": "python",
   "pygments_lexer": "ipython2",
   "version": "2.7.6"
  },
  "pycharm": {
   "stem_cell": {
    "cell_type": "raw",
    "source": [],
    "metadata": {
     "collapsed": false
    }
   }
  }
 },
 "nbformat": 4,
 "nbformat_minor": 0
}