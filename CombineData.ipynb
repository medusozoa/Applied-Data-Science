{
 "cells": [
  {
   "cell_type": "code",
   "execution_count": 1,
   "outputs": [],
   "source": [
    "from feature_combination import TRAIN_PATH, TEST_PATH\n",
    "from feature_combination import get_training_samples_dict, get_training_samples_frame\n",
    "from feature_combination import get_testing_samples_dict, get_testing_samples_frame"
   ],
   "metadata": {
    "collapsed": false,
    "pycharm": {
     "name": "#%%\n",
     "is_executing": false
    }
   }
  },
  {
   "cell_type": "code",
   "execution_count": null,
   "outputs": [],
   "source": [
    "# gives a dict of data frames where the key is the sample ID\n",
    "# and the value is the process dataframe for that sample\n",
    "train_dict = get_training_samples_dict(TRAIN_PATH)"
   ],
   "metadata": {
    "collapsed": false,
    "pycharm": {
     "name": "#%%\n"
    }
   }
  },
  {
   "cell_type": "code",
   "execution_count": 2,
   "outputs": [
    {
     "data": {
      "text/plain": "sample                      False\nsample_index                False\nstart                       False\nend                         False\na_ascend                    False\na_descend                   False\na_jump                      False\na_loadwalk                  False\na_walk                      False\np_bent                      False\np_kneel                     False\np_lie                       False\np_sit                       False\np_squat                     False\np_stand                     False\nt_bend                      False\nt_kneel_stand               False\nt_lie_sit                   False\nt_sit_lie                   False\nt_sit_stand                 False\nt_stand_kneel               False\nt_stand_sit                 False\nt_straighten                False\nt_turn                      False\ncentre_2d_x                 False\ncentre_2d_y                 False\nbb_2d_br_x                  False\nbb_2d_br_y                  False\nbb_2d_tl_x                  False\nbb_2d_tl_y                  False\ncentre_3d_x                 False\ncentre_3d_y                 False\ncentre_3d_z                 False\nbb_3d_brb_x                 False\nbb_3d_brb_y                 False\nbb_3d_brb_z                 False\nbb_3d_flt_x                 False\nbb_3d_flt_y                 False\nbb_3d_flt_z                 False\nacceleration_x              False\nacceleration_y              False\nacceleration_z              False\nacceleration_Kitchen_AP     False\nacceleration_Lounge_AP      False\nacceleration_Upstairs_AP    False\nacceleration_Study_AP       False\npir_bath                    False\npir_bed1                    False\npir_bed2                    False\npir_hall                    False\npir_kitchen                 False\npir_living                  False\npir_stairs                  False\npir_study                   False\npir_toilet                  False\ndtype: bool"
     },
     "metadata": {},
     "output_type": "execute_result",
     "execution_count": 2
    }
   ],
   "source": [
    "# gives a single data frame containing all samples\n",
    "# 'sample' column contains the sample ID of the data point\n",
    "# 'sample_index' contains the original index in the processed dataframe\n",
    "# for that sample\n",
    "train_frame = get_training_samples_frame(TRAIN_PATH)"
   ],
   "metadata": {
    "collapsed": false,
    "pycharm": {
     "name": "#%%\n",
     "is_executing": false
    }
   }
  },
  {
   "cell_type": "code",
   "execution_count": null,
   "outputs": [],
   "source": [
    "# same as get_training_samples_dict but for testing samples\n",
    "test_dict = get_testing_samples_dict(TEST_PATH)"
   ],
   "metadata": {
    "collapsed": false,
    "pycharm": {
     "name": "#%%\n"
    }
   }
  },
  {
   "cell_type": "code",
   "execution_count": null,
   "outputs": [],
   "source": [
    "# gives a single data frame containing all samples\n",
    "# 'sample' column contains the sample ID of the data point\n",
    "# 'sample_index' contains the original index in the processed dataframe\n",
    "# for that sample\n",
    "test_frame = get_testing_samples_frame(TEST_PATH)"
   ],
   "metadata": {
    "collapsed": false,
    "pycharm": {
     "name": "#%%\n"
    }
   }
  }
 ],
 "metadata": {
  "kernelspec": {
   "display_name": "Python 3",
   "language": "python",
   "name": "python3"
  },
  "language_info": {
   "codemirror_mode": {
    "name": "ipython",
    "version": 2
   },
   "file_extension": ".py",
   "mimetype": "text/x-python",
   "name": "python",
   "nbconvert_exporter": "python",
   "pygments_lexer": "ipython2",
   "version": "2.7.6"
  },
  "pycharm": {
   "stem_cell": {
    "cell_type": "raw",
    "source": [],
    "metadata": {
     "collapsed": false
    }
   }
  }
 },
 "nbformat": 4,
 "nbformat_minor": 0
}